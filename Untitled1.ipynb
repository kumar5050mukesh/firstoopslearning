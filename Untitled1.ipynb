{
 "cells": [
  {
   "cell_type": "code",
   "execution_count": 1,
   "id": "872a2a30-2cfb-4788-88e5-dfa6c2a2bab8",
   "metadata": {},
   "outputs": [
    {
     "name": "stdout",
     "output_type": "stream",
     "text": [
      "<__main__.ShoppingCart object at 0x7fc0f9e0e830>\n"
     ]
    },
    {
     "ename": "AttributeError",
     "evalue": "'ShoppingCart' object has no attribute 'total_cost'",
     "output_type": "error",
     "traceback": [
      "\u001b[0;31m---------------------------------------------------------------------------\u001b[0m",
      "\u001b[0;31mAttributeError\u001b[0m                            Traceback (most recent call last)",
      "Cell \u001b[0;32mIn[1], line 41\u001b[0m\n\u001b[1;32m     37\u001b[0m cart\u001b[38;5;241m.\u001b[39madd_item(item3)\n\u001b[1;32m     39\u001b[0m \u001b[38;5;28mprint\u001b[39m(cart)\n\u001b[0;32m---> 41\u001b[0m \u001b[43mcart\u001b[49m\u001b[38;5;241;43m.\u001b[39;49m\u001b[43mremove_item\u001b[49m\u001b[43m(\u001b[49m\u001b[43mitem2\u001b[49m\u001b[43m)\u001b[49m\n\u001b[1;32m     43\u001b[0m \u001b[38;5;28mprint\u001b[39m(cart)\n",
      "Cell \u001b[0;32mIn[1], line 26\u001b[0m, in \u001b[0;36mShoppingCart.remove_item\u001b[0;34m(self, item)\u001b[0m\n\u001b[1;32m     23\u001b[0m \u001b[38;5;28;01mdef\u001b[39;00m \u001b[38;5;21m__str__\u001b[39m(\u001b[38;5;28mself\u001b[39m):\n\u001b[1;32m     24\u001b[0m     items \u001b[38;5;241m=\u001b[39m \u001b[38;5;28mlist\u001b[39m(\u001b[38;5;28mstr\u001b[39m(item) \u001b[38;5;28;01mfor\u001b[39;00m item \u001b[38;5;129;01min\u001b[39;00m \u001b[38;5;28mself\u001b[39m\u001b[38;5;241m.\u001b[39mitems)\n\u001b[0;32m---> 26\u001b[0m \u001b[38;5;28;01mreturn\u001b[39;00m \u001b[38;5;124mf\u001b[39m\u001b[38;5;124m\"\u001b[39m\u001b[38;5;132;01m{\u001b[39;00m\u001b[38;5;28;43mself\u001b[39;49m\u001b[38;5;241;43m.\u001b[39;49m\u001b[43mtotal_cost\u001b[49m()\u001b[38;5;132;01m}\u001b[39;00m\u001b[38;5;124m\"\u001b[39m\n",
      "\u001b[0;31mAttributeError\u001b[0m: 'ShoppingCart' object has no attribute 'total_cost'"
     ]
    }
   ],
   "source": []
  },
  {
   "cell_type": "code",
   "execution_count": 29,
   "id": "8b77549f-4aae-4c06-92b7-83f94108ffb1",
   "metadata": {},
   "outputs": [
    {
     "name": "stdout",
     "output_type": "stream",
     "text": [
      "1.5 ['apple (0.5)', 'banana (0.25)', 'pear (0.75)']\n",
      "1.25 ['apple (0.5)', 'pear (0.75)']\n"
     ]
    }
   ],
   "source": [
    "class Item:\n",
    "    def __init__(self, name, price):\n",
    "        self.name = name\n",
    "        self.price = price\n",
    "\n",
    "    def __str__(self):\n",
    "        return f\"{self.name} ({self.price})\"\n",
    "\n",
    "\n",
    "class ShoppingCart:\n",
    "    def __init__(self):\n",
    "        self.items = []\n",
    "\n",
    "    def add_item(self, item):\n",
    "        self.items.append(item)\n",
    "\n",
    "    def remove_item(self, item):\n",
    "        self.items.remove(item)\n",
    "\n",
    "    def total_cost(self):\n",
    "        return sum(item.price for item in self.items)\n",
    "\n",
    "    def __str__(self):\n",
    "        items = list(str(item) for item in self.items)\n",
    "        return f\"{self.total_cost()} {items}\"\n",
    "\n",
    "\n",
    "cart = ShoppingCart()\n",
    "\n",
    "item1 = Item(\"apple\", 0.5)\n",
    "item2 = Item(\"banana\", 0.25)\n",
    "item3 = Item(\"pear\", 0.75)\n",
    "\n",
    "cart.add_item(item1)\n",
    "cart.add_item(item2)\n",
    "cart.add_item(item3)\n",
    "\n",
    "print(cart)\n",
    "\n",
    "cart.remove_item(item2)\n",
    "\n",
    "print(cart)\n"
   ]
  },
  {
   "cell_type": "code",
   "execution_count": null,
   "id": "c6cba1c6-f025-4f67-8b7e-1ae37b171797",
   "metadata": {},
   "outputs": [
    {
     "name": "stdout",
     "output_type": "stream",
     "text": [
      "apple (0.99)\n"
     ]
    }
   ],
   "source": []
  }
 ],
 "metadata": {
  "kernelspec": {
   "display_name": "Python 3 (ipykernel)",
   "language": "python",
   "name": "python3"
  },
  "language_info": {
   "codemirror_mode": {
    "name": "ipython",
    "version": 3
   },
   "file_extension": ".py",
   "mimetype": "text/x-python",
   "name": "python",
   "nbconvert_exporter": "python",
   "pygments_lexer": "ipython3",
   "version": "3.10.8"
  }
 },
 "nbformat": 4,
 "nbformat_minor": 5
}
